{
 "cells": [
  {
   "cell_type": "markdown",
   "metadata": {},
   "source": [
    "# Measures of Central Tendency - Quiz\n",
    "\n",
    "## Objectives\n",
    "You will be able to:\n",
    "* Understand and describe the significance of measuring central tendency of continuous data\n",
    "* Understand the formula and intuition behind the mean, median, mode and modal class\n",
    "* Compare mean-median-mode, along with histograms to explain the central tendency of given data"
   ]
  },
  {
   "cell_type": "markdown",
   "metadata": {},
   "source": [
    "**Note, for these exercises, you do not need to write code to answer them - we'll do that later. Just do them by hand or with a calculator to make sure you're comfortable with the process of calculating the answers!**\n",
    "\n",
    "### Exercise 1\n",
    "Calculate the mean, median and mode for this data set: \n",
    "```\n",
    "19, 18, 21, 16, 15, 17, 20, 18\n",
    "```\n",
    "While comparing the results of three measures, comment about this distribution. "
   ]
  },
  {
   "cell_type": "code",
   "execution_count": 66,
   "metadata": {},
   "outputs": [
    {
     "name": "stdout",
     "output_type": "stream",
     "text": [
      "(mean: 18.0, median: 18, mode: 18)\n"
     ]
    }
   ],
   "source": [
    "array_1 = [19, 18, 21, 16, 15, 17, 20, 18]\n",
    "\n",
    "def mean(array):  \n",
    "    return sum(array)/len(array)\n",
    "\n",
    "def median(array):\n",
    "    new_list = []\n",
    "    new_list = sorted(array)\n",
    "    for num in array:\n",
    "        half = int((len(new_list)/2)-1)\n",
    "        half2 = int((len(new_list)/2)-.5)\n",
    "        if len(new_list) % 2 == 0:\n",
    "            median = new_list[half]\n",
    "        else:\n",
    "            median = new_list[half2]\n",
    "    return median\n",
    "median(array)\n",
    "\n",
    "def mode(most_frequent):\n",
    "    return most_frequent\n",
    "\n",
    "print(f\"(mean: {mean(array_1)}, median: {median(array_1)}, mode: {mode(18)})\")"
   ]
  },
  {
   "cell_type": "code",
   "execution_count": 67,
   "metadata": {},
   "outputs": [
    {
     "data": {
      "text/plain": [
       "'\\nCalculate the mean, median and mode for given distribution and state which of these measures does not describe the \"middle\" of this data set? and why ?\\n100, 99, 97, 97, 96, 98, 95, 72\\n'"
      ]
     },
     "execution_count": 67,
     "metadata": {},
     "output_type": "execute_result"
    }
   ],
   "source": [
    "### Exercise 2\n",
    "'''\n",
    "Calculate the mean, median and mode for given distribution and state which of these measures does not describe the \"middle\" of this data set? and why ?\n",
    "100, 99, 97, 97, 96, 98, 95, 72\n",
    "'''\n"
   ]
  },
  {
   "cell_type": "code",
   "execution_count": 68,
   "metadata": {},
   "outputs": [
    {
     "name": "stdout",
     "output_type": "stream",
     "text": [
      "(mean: 94.25, median: 97, mode: 97)\n",
      "The mean does not describe the middle of the data set because it is scewed to the left. A smaller value, an outlier, is pulling down the average.\n"
     ]
    }
   ],
   "source": [
    "array_2 = [100, 99, 97, 97, 96, 98, 95, 72]\n",
    "mean(array_2)\n",
    "median(array_2)\n",
    "mode(97)\n",
    "\n",
    "print(f\"(mean: {mean(array_2)}, median: {median(array_2)}, mode: {mode(97)})\")\n",
    "print(\"The mean does not describe the middle of the data set because it is scewed to the left. A smaller value, an outlier, is pulling down the average.\")"
   ]
  },
  {
   "cell_type": "markdown",
   "metadata": {},
   "source": [
    "### Exercise 3\n",
    "On the first three days of his bookshop opening, Joe sold 15, 18, and 16 books (He initially hoped that he would sell 17 books every day).  How many books does he need to sell on the next day to have a mean sale of 17?"
   ]
  },
  {
   "cell_type": "code",
   "execution_count": 90,
   "metadata": {},
   "outputs": [
    {
     "name": "stdout",
     "output_type": "stream",
     "text": [
      "16.333333333333332\n",
      "(He would have to sell 19 books to have a mean sale of 17.0)\n"
     ]
    }
   ],
   "source": [
    "array_3 = [15, 18, 16]\n",
    "array_4 = [15, 18, 16, 19]\n",
    "print(mean(array_3))\n",
    "print(f\"(He would have to sell 19 books to have a mean sale of {mean(array_4)})\")"
   ]
  },
  {
   "cell_type": "markdown",
   "metadata": {},
   "source": [
    "### Exercise 4\n",
    "The histograms show the amount of time (hours per day) spent on Facebook by 46 middle school girls and 40 middle school boys from a school in San Francisco. A total of 50 boys and 50 girls took the survey, 4 girls and 10 boys did not use Facebook at all. \n",
    "Each is graphed with a bin width of 0.25 hours.\n",
    "\n",
    "![](boys.png)\n",
    "![](girls.png)\n",
    "\n",
    "Looking at these histograms, answer following questions. \n",
    "\n",
    "*Hint: For most parts, you will have to figure out the location of required bins and count the frequencies. *\n",
    "\n",
    "#### How many boys spend more than 1.5 hours/day on Facebook?\n"
   ]
  },
  {
   "cell_type": "code",
   "execution_count": 91,
   "metadata": {},
   "outputs": [
    {
     "name": "stdout",
     "output_type": "stream",
     "text": [
      "8 boys spend more than 1.5 hours/day on Facebook\n"
     ]
    }
   ],
   "source": [
    "print(\"8 boys spend more than 1.5 hours/day on Facebook.\")"
   ]
  },
  {
   "cell_type": "markdown",
   "metadata": {},
   "source": [
    "#### Compare the percentage of boys and girls that spend more than zero but less than 1 hour/day on Facebook."
   ]
  },
  {
   "cell_type": "code",
   "execution_count": 102,
   "metadata": {},
   "outputs": [
    {
     "name": "stdout",
     "output_type": "stream",
     "text": [
      "(19.57% of girls and 47.5% of boys spend more than zero but less than 1 hour/day on Facebook.)\n"
     ]
    }
   ],
   "source": [
    "percent_girls = (9/46)*100\n",
    "percent_boys = (19/40)*100\n",
    "print(f\"({round(percent_girls, 2)}% of girls and {round(percent_boys, 2)}% of boys spend more than zero but less than 1 hour/day on Facebook.)\")"
   ]
  },
  {
   "cell_type": "markdown",
   "metadata": {},
   "source": [
    "#### Find the bin where the median of the boys' data set lies."
   ]
  },
  {
   "cell_type": "code",
   "execution_count": 11,
   "metadata": {},
   "outputs": [],
   "source": [
    "print(\"bin 5\")"
   ]
  },
  {
   "cell_type": "markdown",
   "metadata": {},
   "source": [
    "#### In terms of Facebook usage times based on given data, what can you conclude about usage habits of boys and girls?"
   ]
  },
  {
   "cell_type": "code",
   "execution_count": 103,
   "metadata": {},
   "outputs": [
    {
     "name": "stdout",
     "output_type": "stream",
     "text": [
      "On average, girls spend more hours/day on Facebook than boys.\n"
     ]
    }
   ],
   "source": [
    "print(\"On average, girls spend more hours/day on Facebook than boys.\")"
   ]
  }
 ],
 "metadata": {
  "kernelspec": {
   "display_name": "Python [conda env:root]",
   "language": "python",
   "name": "conda-root-py"
  }
 },
 "nbformat": 4,
 "nbformat_minor": 2
}
